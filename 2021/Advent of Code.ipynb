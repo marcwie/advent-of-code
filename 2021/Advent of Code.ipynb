{
 "cells": [
  {
   "cell_type": "code",
   "execution_count": 3,
   "id": "17e66252",
   "metadata": {},
   "outputs": [],
   "source": [
    "import numpy as np\n",
    "import pandas as pd\n",
    "from collections import Counter"
   ]
  },
  {
   "cell_type": "code",
   "execution_count": 4,
   "id": "b4d4eee3",
   "metadata": {},
   "outputs": [],
   "source": []
  },
  {
   "cell_type": "markdown",
   "id": "90821362",
   "metadata": {},
   "source": [
    "# Day 3"
   ]
  },
  {
   "cell_type": "code",
   "execution_count": 32,
   "id": "70de20e8",
   "metadata": {},
   "outputs": [
    {
     "name": "stdout",
     "output_type": "stream",
     "text": [
      "Part1 Solution: 4118544\n",
      "Part2 Solution: 3832770\n"
     ]
    }
   ],
   "source": [
    "def day3_1():\n",
    "    \n",
    "    data = np.loadtxt('data/day3/input', dtype=str)\n",
    "    \n",
    "    n_bits = len(data[0])\n",
    "    n_numbers = len(data)\n",
    "    bit_count = np.zeros(n_bits)\n",
    "\n",
    "    for number in data:\n",
    "        for position, bit in enumerate(number):\n",
    "            bit_count[position] += int(bit)\n",
    "\n",
    "    gamma_rate = ''.join((bit_count > (.5 * n_numbers)).astype(int).astype(str))\n",
    "    epsilon_rate = ''.join((bit_count < (.5 * n_numbers)).astype(int).astype(str))\n",
    "\n",
    "    gamma_rate = int(gamma_rate, 2)\n",
    "    epsilon_rate = int(epsilon_rate, 2)\n",
    "\n",
    "    print('Part1 Solution:', gamma_rate * epsilon_rate )\n",
    "\n",
    "\n",
    "def day3_2():\n",
    "    \n",
    "    data = np.loadtxt('data/day3/input', dtype=str)\n",
    "\n",
    "    candidates = data\n",
    "    position = 0\n",
    "    \n",
    "    while len(candidates) > 1:\n",
    "    \n",
    "        entries = np.array([int(number[position]) for number in candidates])\n",
    "        n_ones = entries.sum()\n",
    "        n_zeros = len(entries) - n_ones\n",
    "\n",
    "        if n_ones >= n_zeros:\n",
    "            candidates = [number for number in candidates if number[position] == '1']\n",
    "        else:\n",
    "            candidates = [number for number in candidates if number[position] == '0']\n",
    "\n",
    "        position += 1\n",
    "        \n",
    "    oxygen_rating = int(candidates[0], 2)\n",
    "\n",
    "    candidates = data\n",
    "    position = 0\n",
    "    \n",
    "    while len(candidates) > 1:\n",
    "    \n",
    "        entries = np.array([int(number[position]) for number in candidates])\n",
    "        n_ones = entries.sum()\n",
    "        n_zeros = len(entries) - n_ones\n",
    "\n",
    "        if n_ones >= n_zeros:\n",
    "            candidates = [number for number in candidates if number[position] == '0']\n",
    "        else:\n",
    "            candidates = [number for number in candidates if number[position] == '1']\n",
    "\n",
    "        position += 1\n",
    "        \n",
    "    co2_scrubber_rating = int(candidates[0], 2)\n",
    "\n",
    "    print('Part2 Solution:', co2_scrubber_rating * oxygen_rating)\n",
    "    \n",
    "day3_1()\n",
    "day3_2()"
   ]
  },
  {
   "cell_type": "markdown",
   "id": "7c3ae942",
   "metadata": {},
   "source": [
    "# Day 2"
   ]
  },
  {
   "cell_type": "code",
   "execution_count": 73,
   "id": "2856ff23",
   "metadata": {},
   "outputs": [
    {
     "name": "stdout",
     "output_type": "stream",
     "text": [
      "Part1 Solution: 2120749\n",
      "Part2 Solution: 2138382217\n"
     ]
    }
   ],
   "source": [
    "def day2():\n",
    "\n",
    "    data = np.loadtxt('data/day2/input', dtype=str)\n",
    "    \n",
    "    down = np.sum([int(value) for direction, value in data if direction == 'down'])\n",
    "    forward = np.sum([int(value) for direction, value in data if direction == 'forward'])\n",
    "    up = np.sum([int(value) for direction, value in data if direction == 'up'])\n",
    "    print('Part1 Solution:', (down - up) * forward )\n",
    "    \n",
    "    depth = 0\n",
    "    position = 0\n",
    "    aim = 0\n",
    "\n",
    "    for direction, value in data:\n",
    "        value = int(value)\n",
    "        if direction == 'forward':\n",
    "            position += value\n",
    "            depth += aim * value\n",
    "        elif direction == 'up':\n",
    "            aim -= value\n",
    "        elif direction == 'down':\n",
    "            aim += value\n",
    "\n",
    "    print('Part2 Solution:', position * depth )\n",
    "    \n",
    "day2()"
   ]
  },
  {
   "cell_type": "markdown",
   "id": "0dc0ac7f",
   "metadata": {},
   "source": [
    "# Day 1"
   ]
  },
  {
   "cell_type": "code",
   "execution_count": 74,
   "id": "0f02ddf9",
   "metadata": {},
   "outputs": [
    {
     "name": "stdout",
     "output_type": "stream",
     "text": [
      "Part1 Solution: 1184\n",
      "Part2 Solution: 1158\n"
     ]
    }
   ],
   "source": [
    "def day1():\n",
    "    data = np.loadtxt('data/day1/input')\n",
    "    print('Part1 Solution:', (np.diff(data) > 0).sum())\n",
    "\n",
    "    df = pd.DataFrame(data)\n",
    "    print('Part2 Solution:', (df.rolling(window=3).sum().dropna().diff() > 0).sum().values[0])\n",
    "    \n",
    "day1()"
   ]
  },
  {
   "cell_type": "code",
   "execution_count": null,
   "id": "09a723b0",
   "metadata": {},
   "outputs": [],
   "source": []
  }
 ],
 "metadata": {
  "kernelspec": {
   "display_name": "Python 3 (ipykernel)",
   "language": "python",
   "name": "python3"
  },
  "language_info": {
   "codemirror_mode": {
    "name": "ipython",
    "version": 3
   },
   "file_extension": ".py",
   "mimetype": "text/x-python",
   "name": "python",
   "nbconvert_exporter": "python",
   "pygments_lexer": "ipython3",
   "version": "3.8.12"
  }
 },
 "nbformat": 4,
 "nbformat_minor": 5
}
